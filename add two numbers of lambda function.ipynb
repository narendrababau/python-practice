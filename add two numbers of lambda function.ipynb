{
 "cells": [
  {
   "cell_type": "code",
   "execution_count": 1,
   "id": "15a729c1-af13-47a7-a0dd-887e39490951",
   "metadata": {},
   "outputs": [],
   "source": [
    "def fun():\n",
    "    print(\"welcome to python\")"
   ]
  },
  {
   "cell_type": "code",
   "execution_count": 2,
   "id": "3002c264-227d-4a69-909b-3ca86c260ef9",
   "metadata": {},
   "outputs": [
    {
     "name": "stdout",
     "output_type": "stream",
     "text": [
      "welcome to python\n"
     ]
    }
   ],
   "source": [
    "fun()"
   ]
  },
  {
   "cell_type": "code",
   "execution_count": 13,
   "id": "4d297868-f4d0-418c-9929-98151a7b9b4c",
   "metadata": {},
   "outputs": [
    {
     "name": "stdin",
     "output_type": "stream",
     "text": [
      "enter the number 10\n",
      "enter the number 19\n"
     ]
    },
    {
     "data": {
      "text/plain": [
       "29"
      ]
     },
     "execution_count": 13,
     "metadata": {},
     "output_type": "execute_result"
    }
   ],
   "source": [
    "def sub(n1,n2):\n",
    "    s=n1+n2\n",
    "    return s\n",
    "n1=int(input(\"enter the number\"))\n",
    "n2=int(input(\"enter the number\"))\n",
    "sum(n1,n2)\n",
    "\n"
   ]
  },
  {
   "cell_type": "code",
   "execution_count": null,
   "id": "bb9af492-2b40-4ef2-9668-c008bc09343b",
   "metadata": {},
   "outputs": [],
   "source": []
  }
 ],
 "metadata": {
  "kernelspec": {
   "display_name": "Python 3 (ipykernel)",
   "language": "python",
   "name": "python3"
  },
  "language_info": {
   "codemirror_mode": {
    "name": "ipython",
    "version": 3
   },
   "file_extension": ".py",
   "mimetype": "text/x-python",
   "name": "python",
   "nbconvert_exporter": "python",
   "pygments_lexer": "ipython3",
   "version": "3.12.3"
  }
 },
 "nbformat": 4,
 "nbformat_minor": 5
}
