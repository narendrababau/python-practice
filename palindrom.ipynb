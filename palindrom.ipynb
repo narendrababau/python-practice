{
 "cells": [
  {
   "cell_type": "code",
   "execution_count": null,
   "id": "f3e1c229-4718-4625-a878-e7982928a63e",
   "metadata": {},
   "outputs": [],
   "source": [
    "text = str(input())\n",
    "rev_text = \"\"\n",
    "for j in text:\n",
    "    rev_text+=j\n",
    "    print(rev_text)\n",
    "print(\"Reversed text:\",rev_text)\n",
    "\n",
    "if text==rev_text:\n",
    "    print(\"yes,the given string is palindrom\")\n",
    "else:\n",
    "    print(\"no,the given string is not a palindrom\")"
   ]
  },
  {
   "cell_type": "code",
   "execution_count": null,
   "id": "6d79a0f4-a320-4fe4-b6a9-589ce19fe45f",
   "metadata": {},
   "outputs": [],
   "source": []
  }
 ],
 "metadata": {
  "kernelspec": {
   "display_name": "Python 3 (ipykernel)",
   "language": "python",
   "name": "python3"
  },
  "language_info": {
   "codemirror_mode": {
    "name": "ipython",
    "version": 3
   },
   "file_extension": ".py",
   "mimetype": "text/x-python",
   "name": "python",
   "nbconvert_exporter": "python",
   "pygments_lexer": "ipython3",
   "version": "3.12.3"
  }
 },
 "nbformat": 4,
 "nbformat_minor": 5
}
