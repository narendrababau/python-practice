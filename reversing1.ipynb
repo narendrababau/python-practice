{
  "nbformat": 4,
  "nbformat_minor": 0,
  "metadata": {
    "colab": {
      "provenance": []
    },
    "kernelspec": {
      "name": "python3",
      "display_name": "Python 3"
    },
    "language_info": {
      "name": "python"
    }
  },
  "cells": [
    {
      "cell_type": "code",
      "execution_count": 2,
      "metadata": {
        "colab": {
          "base_uri": "https://localhost:8080/"
        },
        "id": "jE7vaAPh_S0s",
        "outputId": "39f03811-efc1-4b3c-8fc7-88c6bda91b4a"
      },
      "outputs": [
        {
          "output_type": "stream",
          "name": "stdout",
          "text": [
            "U\n",
            "R\n",
            "U\n",
            "L\n",
            "A\n",
            "G\n",
            "N\n",
            "E\n",
            "B\n"
          ]
        }
      ],
      "source": [
        "x = \"BENGALURU\"\n",
        "for i in x[::-1]:\n",
        "  print(i)\n",
        ""
      ]
    },
    {
      "cell_type": "code",
      "source": [],
      "metadata": {
        "id": "AIs86i4N_TWm"
      },
      "execution_count": null,
      "outputs": []
    }
  ]
}