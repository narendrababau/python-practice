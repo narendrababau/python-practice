{
 "cells": [
  {
   "cell_type": "code",
   "execution_count": 2,
   "id": "46a972c5-1771-4468-86f8-2123ffaced79",
   "metadata": {},
   "outputs": [
    {
     "name": "stdout",
     "output_type": "stream",
     "text": [
      "5\n",
      "10\n",
      "15\n",
      "20\n",
      "25\n"
     ]
    }
   ],
   "source": [
    "\n",
    "num = 1\n",
    "count = 1\n",
    "\n",
    "while count <= 5:\n",
    "    print(num * 5)  #\n",
    "    num += 1        \n",
    "    count += 1      \n"
   ]
  },
  {
   "cell_type": "code",
   "execution_count": null,
   "id": "6eeec787-43e1-4d41-bd94-3f67abd05087",
   "metadata": {},
   "outputs": [],
   "source": []
  },
  {
   "cell_type": "code",
   "execution_count": null,
   "id": "36dba0e8-8222-4de1-8810-b8aa16b01922",
   "metadata": {},
   "outputs": [],
   "source": []
  }
 ],
 "metadata": {
  "kernelspec": {
   "display_name": "Python 3 (ipykernel)",
   "language": "python",
   "name": "python3"
  },
  "language_info": {
   "codemirror_mode": {
    "name": "ipython",
    "version": 3
   },
   "file_extension": ".py",
   "mimetype": "text/x-python",
   "name": "python",
   "nbconvert_exporter": "python",
   "pygments_lexer": "ipython3",
   "version": "3.12.3"
  }
 },
 "nbformat": 4,
 "nbformat_minor": 5
}
