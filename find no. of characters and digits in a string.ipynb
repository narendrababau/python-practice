{
 "cells": [
  {
   "cell_type": "code",
   "execution_count": null,
   "id": "3050f17f-378d-41ce-b9e1-52ebd22e1c98",
   "metadata": {},
   "outputs": [],
   "source": [
    "x = input()\n",
    "digit = 0\n",
    "alphabet = 0\n",
    "for i in x:\n",
    "    if i.isdigit():\n",
    "        digit+=1\n",
    "    elif i.isalpha():\n",
    "        alphabet+=1\n",
    "print(\"Digit:\",digits)\n",
    "print(\"Alpabet:\",alphabet)"
   ]
  }
 ],
 "metadata": {
  "kernelspec": {
   "display_name": "Python 3 (ipykernel)",
   "language": "python",
   "name": "python3"
  },
  "language_info": {
   "codemirror_mode": {
    "name": "ipython",
    "version": 3
   },
   "file_extension": ".py",
   "mimetype": "text/x-python",
   "name": "python",
   "nbconvert_exporter": "python",
   "pygments_lexer": "ipython3",
   "version": "3.12.3"
  }
 },
 "nbformat": 4,
 "nbformat_minor": 5
}
