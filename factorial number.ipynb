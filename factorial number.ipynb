{
 "cells": [
  {
   "cell_type": "code",
   "execution_count": 1,
   "id": "d3092b55-c1aa-446f-b58c-c77d42996ed8",
   "metadata": {},
   "outputs": [
    {
     "name": "stdin",
     "output_type": "stream",
     "text": [
      "Enter a number:  5\n"
     ]
    },
    {
     "name": "stdout",
     "output_type": "stream",
     "text": [
      "Factorial (Iterative) of 5 is 120\n"
     ]
    }
   ],
   "source": [
    "\n",
    "def factorial_iterative(n):\n",
    "    result = 1\n",
    "    for i in range(1, n + 1):\n",
    "        result *= i\n",
    "    return result\n",
    "n = int(input(\"Enter a number: \"))\n",
    "print(\"Factorial (Iterative) of\", n, \"is\", factorial_iterative(n))\n"
   ]
  },
  {
   "cell_type": "code",
   "execution_count": null,
   "id": "43975d59-0984-4dc8-8281-3507ee095953",
   "metadata": {},
   "outputs": [],
   "source": [
    "\n",
    "def factorial_recursive(n):\n",
    "    if n == 0 or n == 1:\n",
    "        return 1\n",
    "    else:\n",
    "        return n * factorial_recursive(n - 1)\n",
    "n = int(input(\"Enter a number: \"))\n",
    "print(\"Factorial (Recursive) of\", n, \"is\", factorial_recursive(n))\n"
   ]
  },
  {
   "cell_type": "code",
   "execution_count": null,
   "id": "ed119f82-980b-4f76-915c-7028a32ae9e8",
   "metadata": {},
   "outputs": [],
   "source": []
  }
 ],
 "metadata": {
  "kernelspec": {
   "display_name": "Python 3 (ipykernel)",
   "language": "python",
   "name": "python3"
  },
  "language_info": {
   "codemirror_mode": {
    "name": "ipython",
    "version": 3
   },
   "file_extension": ".py",
   "mimetype": "text/x-python",
   "name": "python",
   "nbconvert_exporter": "python",
   "pygments_lexer": "ipython3",
   "version": "3.12.3"
  }
 },
 "nbformat": 4,
 "nbformat_minor": 5
}
